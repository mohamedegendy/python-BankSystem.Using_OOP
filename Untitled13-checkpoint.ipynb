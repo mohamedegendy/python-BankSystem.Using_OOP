{
 "cells": [
  {
   "cell_type": "markdown",
   "id": "2587943e",
   "metadata": {},
   "source": [
    "# wellcome code"
   ]
  },
  {
   "cell_type": "markdown",
   "id": "1a113c1e",
   "metadata": {},
   "source": [
    "# mohamed el gendy"
   ]
  },
  {
   "cell_type": "code",
   "execution_count": 11,
   "id": "2eab810a",
   "metadata": {},
   "outputs": [
    {
     "name": "stdout",
     "output_type": "stream",
     "text": [
      "Deposit of 2900$ successful. New balance: 2900$\n",
      "Deposit of 2500$ successful. New balance: 2500$\n",
      "Withdrawal of 950$ successful. New balance: 1950$\n",
      "Withdrawal of 500$ successful. New balance: 2000$\n",
      "1950\n",
      "2000\n",
      " mohamed el gendy \n",
      "8000\n",
      " Nader Ashrf\n",
      "3000\n"
     ]
    }
   ],
   "source": [
    "class Customer:\n",
    "    def __init__(self, name, account_number):\n",
    "        self.name = name\n",
    "        self.account_number = account_number\n",
    "        self.balance = 0\n",
    "\n",
    "    def deposit(self, amount):\n",
    "        self.balance += amount\n",
    "        print(f\"Deposit of {amount}$ successful. New balance: {self.balance}$\")\n",
    "\n",
    "    def withdraw(self, amount):\n",
    "        if self.balance >= amount:\n",
    "            self.balance -= amount\n",
    "            print(f\"Withdrawal of {amount}$ successful. New balance: {self.balance}$\")\n",
    "        else:\n",
    "            print(\"Insufficient funds.\")\n",
    "\n",
    "    def get_balance(self):\n",
    "        return self.balance\n",
    "\n",
    "\n",
    "class Loan:\n",
    "    def __init__(self, customer, amount):\n",
    "        self.customer = customer\n",
    "        self.amount = amount\n",
    "\n",
    "    def get_customer(self):\n",
    "        return self.customer\n",
    "\n",
    "    def get_amount(self):\n",
    "        return self.amount\n",
    "\n",
    "\n",
    "class Employee:\n",
    "    def __init__(self, name, position):\n",
    "        self.name = name\n",
    "        self.position = position\n",
    "        self.salary = 0\n",
    "\n",
    "    def set_salary(self, salary):\n",
    "        self.salary = salary\n",
    "\n",
    "    def get_name(self):\n",
    "        return self.name\n",
    "\n",
    "    def get_position(self):\n",
    "        return self.position\n",
    "\n",
    "    def get_salary(self):\n",
    "        return self.salary\n",
    "\n",
    "\n",
    "# Example usage:\n",
    "\n",
    "# Create customers\n",
    "customer1 = Customer(\" mohamed el gendy \", \"246813579\")\n",
    "customer2 = Customer(\"elsayed el gendy\", \"135792468\")\n",
    "\n",
    "# Deposit money\n",
    "customer1.deposit(2900)\n",
    "customer2.deposit(2500)\n",
    "\n",
    "# Withdraw money\n",
    "customer1.withdraw(950)\n",
    "customer2.withdraw(500)\n",
    "\n",
    "# Get account balances\n",
    "print(customer1.get_balance())\n",
    "print(customer2.get_balance())\n",
    "\n",
    "# Create loans\n",
    "loan1 = Loan(customer1, 9000)\n",
    "loan2 = Loan(customer2, 8000)\n",
    "\n",
    "# Get loan information\n",
    "print(loan1.get_customer().name)\n",
    "print(loan2.get_amount())\n",
    "\n",
    "# Create employees\n",
    "employee1 = Employee(\" Nader Ashrf\", \"Manager\")\n",
    "employee2 = Employee(\"mahmoud el gendy\", \"Teller\")\n",
    "\n",
    "# Set employee salaries\n",
    "employee1.set_salary(5000)\n",
    "employee2.set_salary(3000)\n",
    "\n",
    "# Get employee information\n",
    "print(employee1.get_name())\n",
    "print(employee2.get_salary())"
   ]
  },
  {
   "cell_type": "code",
   "execution_count": null,
   "id": "095cc87d",
   "metadata": {},
   "outputs": [],
   "source": []
  }
 ],
 "metadata": {
  "kernelspec": {
   "display_name": "Python 3 (ipykernel)",
   "language": "python",
   "name": "python3"
  },
  "language_info": {
   "codemirror_mode": {
    "name": "ipython",
    "version": 3
   },
   "file_extension": ".py",
   "mimetype": "text/x-python",
   "name": "python",
   "nbconvert_exporter": "python",
   "pygments_lexer": "ipython3",
   "version": "3.11.3"
  }
 },
 "nbformat": 4,
 "nbformat_minor": 5
}
